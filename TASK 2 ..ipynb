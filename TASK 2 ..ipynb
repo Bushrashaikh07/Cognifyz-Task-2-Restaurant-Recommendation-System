{
 "cells": [
  {
   "cell_type": "markdown",
   "id": "dee8f79c-b431-4de4-82b5-67d5a94940a7",
   "metadata": {},
   "source": [
    "## Task 2: Restaurant Recommendation System"
   ]
  },
  {
   "cell_type": "markdown",
   "id": "a0b22909-0390-405e-b61b-b4740df7aa84",
   "metadata": {},
   "source": [
    "## 1. Problem Statement:\n",
    "**Build a content-based recommendation system to suggest restaurants to users based on their preferences like cuisine, price range, and location.**"
   ]
  },
  {
   "cell_type": "markdown",
   "id": "87b86945-c2fd-4d67-ae87-63b16a64c5c1",
   "metadata": {},
   "source": [
    "## 2. Objective\n",
    "** Create a machine learning-based system that uses user preferences to recommend similar restaurants using content-based filtering.**"
   ]
  },
  {
   "cell_type": "markdown",
   "id": "fdfc4acd-f6ed-4bf2-bab1-f7eff6601b3b",
   "metadata": {},
   "source": [
    "3. Dataset Overview\n",
    "Load the restaurant dataset and explore key columns like name, location, cuisines, price range, and rating."
   ]
  },
  {
   "cell_type": "code",
   "execution_count": 36,
   "id": "72049d6d-7cc9-4ea0-9f7d-0517ce883f06",
   "metadata": {},
   "outputs": [],
   "source": [
    "# Step 1: Import Libraries\n",
    "import pandas as pd\n",
    "from sklearn.feature_extraction.text import TfidfVectorizer\n",
    "from sklearn.metrics.pairwise import cosine_similarity"
   ]
  },
  {
   "cell_type": "code",
   "execution_count": 37,
   "id": "0ebe73b8-bb64-4920-896b-6b0b611fff4d",
   "metadata": {},
   "outputs": [],
   "source": [
    "# Step 2: Load and Clean Dataset\n",
    "df = pd.read_csv(\"Dataset .csv\")\n",
    "df = df.dropna(subset=['Cuisines', 'Price range', 'Restaurant Name', 'City', 'Aggregate rating'])\n",
    "df['Cuisines'] = df['Cuisines'].str.lower()"
   ]
  },
  {
   "cell_type": "code",
   "execution_count": 38,
   "id": "bacdc410-b853-4e8d-bfc2-06a70cd7779a",
   "metadata": {},
   "outputs": [],
   "source": [
    "# Step 3: TF-IDF Vectorizer for Cuisines\n",
    "tfidf = TfidfVectorizer(stop_words='english')\n",
    "tfidf_matrix = tfidf.fit_transform(df['Cuisines'])"
   ]
  },
  {
   "cell_type": "code",
   "execution_count": 47,
   "id": "a0f15cfb-1ff0-43bf-b3f4-ddafbd3420c0",
   "metadata": {},
   "outputs": [
    {
     "name": "stdout",
     "output_type": "stream",
     "text": [
      "Recommended Restaurants Similar to: Yellow Dog Eats\n"
     ]
    },
    {
     "data": {
      "text/html": [
       "<div>\n",
       "<style scoped>\n",
       "    .dataframe tbody tr th:only-of-type {\n",
       "        vertical-align: middle;\n",
       "    }\n",
       "\n",
       "    .dataframe tbody tr th {\n",
       "        vertical-align: top;\n",
       "    }\n",
       "\n",
       "    .dataframe thead th {\n",
       "        text-align: right;\n",
       "    }\n",
       "</style>\n",
       "<table border=\"1\" class=\"dataframe\">\n",
       "  <thead>\n",
       "    <tr style=\"text-align: right;\">\n",
       "      <th></th>\n",
       "      <th>Restaurant Name</th>\n",
       "      <th>Cuisines</th>\n",
       "      <th>City</th>\n",
       "      <th>Price range</th>\n",
       "      <th>Aggregate rating</th>\n",
       "    </tr>\n",
       "  </thead>\n",
       "  <tbody>\n",
       "    <tr>\n",
       "      <th>0</th>\n",
       "      <td>Yellow Brick Road - Taj Vivanta</td>\n",
       "      <td>continental, north indian, south indian, italian</td>\n",
       "      <td>New Delhi</td>\n",
       "      <td>4</td>\n",
       "      <td>3.9</td>\n",
       "    </tr>\n",
       "    <tr>\n",
       "      <th>1</th>\n",
       "      <td>Bun Intended</td>\n",
       "      <td>burger, american, fast food</td>\n",
       "      <td>New Delhi</td>\n",
       "      <td>2</td>\n",
       "      <td>3.8</td>\n",
       "    </tr>\n",
       "    <tr>\n",
       "      <th>2</th>\n",
       "      <td>Mustake Multicuisine Restaurant</td>\n",
       "      <td>chinese, thai, north indian, south indian</td>\n",
       "      <td>Kochi</td>\n",
       "      <td>3</td>\n",
       "      <td>3.7</td>\n",
       "    </tr>\n",
       "    <tr>\n",
       "      <th>3</th>\n",
       "      <td>Haldiram's</td>\n",
       "      <td>north indian, south indian, chinese, street fo...</td>\n",
       "      <td>New Delhi</td>\n",
       "      <td>2</td>\n",
       "      <td>3.7</td>\n",
       "    </tr>\n",
       "    <tr>\n",
       "      <th>4</th>\n",
       "      <td>Baba's</td>\n",
       "      <td>north indian, mughlai</td>\n",
       "      <td>Gurgaon</td>\n",
       "      <td>2</td>\n",
       "      <td>3.6</td>\n",
       "    </tr>\n",
       "    <tr>\n",
       "      <th>5</th>\n",
       "      <td>Days of the Raj</td>\n",
       "      <td>north indian, seafood, continental</td>\n",
       "      <td>New Delhi</td>\n",
       "      <td>3</td>\n",
       "      <td>3.4</td>\n",
       "    </tr>\n",
       "    <tr>\n",
       "      <th>6</th>\n",
       "      <td>Spice Box</td>\n",
       "      <td>north indian</td>\n",
       "      <td>New Delhi</td>\n",
       "      <td>1</td>\n",
       "      <td>3.4</td>\n",
       "    </tr>\n",
       "    <tr>\n",
       "      <th>7</th>\n",
       "      <td>Shan E Dilli</td>\n",
       "      <td>north indian</td>\n",
       "      <td>New Delhi</td>\n",
       "      <td>1</td>\n",
       "      <td>3.0</td>\n",
       "    </tr>\n",
       "    <tr>\n",
       "      <th>8</th>\n",
       "      <td>The Breakfast Bite</td>\n",
       "      <td>north indian, south indian</td>\n",
       "      <td>Gurgaon</td>\n",
       "      <td>1</td>\n",
       "      <td>0.0</td>\n",
       "    </tr>\n",
       "    <tr>\n",
       "      <th>9</th>\n",
       "      <td>Stuffed Kathi Roll</td>\n",
       "      <td>fast food</td>\n",
       "      <td>New Delhi</td>\n",
       "      <td>1</td>\n",
       "      <td>0.0</td>\n",
       "    </tr>\n",
       "  </tbody>\n",
       "</table>\n",
       "</div>"
      ],
      "text/plain": [
       "                   Restaurant Name  \\\n",
       "0  Yellow Brick Road - Taj Vivanta   \n",
       "1                     Bun Intended   \n",
       "2  Mustake Multicuisine Restaurant   \n",
       "3                       Haldiram's   \n",
       "4                           Baba's   \n",
       "5                  Days of the Raj   \n",
       "6                        Spice Box   \n",
       "7                     Shan E Dilli   \n",
       "8               The Breakfast Bite   \n",
       "9               Stuffed Kathi Roll   \n",
       "\n",
       "                                            Cuisines       City  Price range  \\\n",
       "0   continental, north indian, south indian, italian  New Delhi            4   \n",
       "1                        burger, american, fast food  New Delhi            2   \n",
       "2          chinese, thai, north indian, south indian      Kochi            3   \n",
       "3  north indian, south indian, chinese, street fo...  New Delhi            2   \n",
       "4                              north indian, mughlai    Gurgaon            2   \n",
       "5                 north indian, seafood, continental  New Delhi            3   \n",
       "6                                       north indian  New Delhi            1   \n",
       "7                                       north indian  New Delhi            1   \n",
       "8                         north indian, south indian    Gurgaon            1   \n",
       "9                                          fast food  New Delhi            1   \n",
       "\n",
       "   Aggregate rating  \n",
       "0               3.9  \n",
       "1               3.8  \n",
       "2               3.7  \n",
       "3               3.7  \n",
       "4               3.6  \n",
       "5               3.4  \n",
       "6               3.4  \n",
       "7               3.0  \n",
       "8               0.0  \n",
       "9               0.0  "
      ]
     },
     "execution_count": 47,
     "metadata": {},
     "output_type": "execute_result"
    }
   ],
   "source": [
    "# Step 4: Create a new column that combines 'Cuisines' and 'City'\n",
    "df['Tags'] = df['Cuisines'].fillna('') + ' ' + df['City'].fillna('')\n",
    "\n",
    "# Step 5: Convert text to numeric vectors using TF-IDF\n",
    "vectorizer = TfidfVectorizer(stop_words='english')\n",
    "tag_vectors = vectorizer.fit_transform(df['Tags'])\n",
    "\n",
    "# Step 6: Calculate cosine similarity between all restaurants\n",
    "similarity_matrix = cosine_similarity(tag_vectors)\n",
    "\n",
    "# Step 7: Pick a restaurant to find similar ones\n",
    "restaurant_name = \"Yellow Dog Eats\" \n",
    "index = df[df['Restaurant Name'] == restaurant_name].index[0]\n",
    "\n",
    "# Step 8: Get similarity scores for that restaurant\n",
    "similarities = list(enumerate(similarity_matrix[index]))\n",
    "\n",
    "# Step 9: Sort restaurants by similarity score (high to low)\n",
    "sorted_similar = sorted(similarities, key=lambda x: x[1], reverse=True)\n",
    "\n",
    "# Step 10: Pick top 10 similar restaurants (skip the original one)\n",
    "top_indices = [i[0] for i in sorted_similar[1:11]]\n",
    "\n",
    "# Step 11: Select required columns and sort by rating\n",
    "recommended_df = df.loc[top_indices, ['Restaurant Name', 'Cuisines', 'City', 'Price range', 'Aggregate rating']]\n",
    "recommended_df = recommended_df.sort_values(by='Aggregate rating', ascending=False)\n",
    "\n",
    "# Step 12: Show the result\n",
    "print(\"Recommended Restaurants Similar to:\", restaurant_name)\n",
    "recommended_df.reset_index(drop=True, inplace=True)\n",
    "recommended_df\n"
   ]
  },
  {
   "cell_type": "code",
   "execution_count": 40,
   "id": "240c8a12-25d3-41ed-b8c1-f26e77d363d0",
   "metadata": {},
   "outputs": [],
   "source": [
    "def recommend_restaurants(cuisine_keyword, price_range_value):\n",
    "    \"\"\"\n",
    "    Returns top 5 restaurants based on a cuisine keyword and price range.\n",
    "    \n",
    "    Parameters:\n",
    "    - cuisine_keyword: e.g., 'north indian'\n",
    "    - price_range_value: e.g., 2 (1 = cheap, 4 = expensive)\n",
    "    \"\"\"\n",
    "    filtered_df = df[\n",
    "        df['Cuisines'].str.contains(cuisine_keyword, case=False, na=False) &\n",
    "        (df['Price range'] == price_range_value)\n",
    "    ]\n",
    "\n",
    "    # Sort by highest rating\n",
    "    result = filtered_df[['Restaurant Name', 'Cuisines', 'City', 'Price range', 'Aggregate rating']]\n",
    "    result = result.sort_values(by='Aggregate rating', ascending=False).head(5).reset_index(drop=True)\n",
    "    \n",
    "    print(f\"\\n sample Recommendation for: {cuisine_keyword.title()} | Price range {price_range_value}\")\n",
    "    return result\n"
   ]
  },
  {
   "cell_type": "code",
   "execution_count": 41,
   "id": "bd7c136c-d880-47b5-8600-0aceedae5ec5",
   "metadata": {},
   "outputs": [
    {
     "name": "stdout",
     "output_type": "stream",
     "text": [
      "\n",
      " sample Recommendation for: Chinese | Price range 3\n",
      "\n",
      " sample Recommendation for: Pizza | Price range 2\n"
     ]
    },
    {
     "data": {
      "text/html": [
       "<div>\n",
       "<style scoped>\n",
       "    .dataframe tbody tr th:only-of-type {\n",
       "        vertical-align: middle;\n",
       "    }\n",
       "\n",
       "    .dataframe tbody tr th {\n",
       "        vertical-align: top;\n",
       "    }\n",
       "\n",
       "    .dataframe thead th {\n",
       "        text-align: right;\n",
       "    }\n",
       "</style>\n",
       "<table border=\"1\" class=\"dataframe\">\n",
       "  <thead>\n",
       "    <tr style=\"text-align: right;\">\n",
       "      <th></th>\n",
       "      <th>Restaurant Name</th>\n",
       "      <th>Cuisines</th>\n",
       "      <th>City</th>\n",
       "      <th>Price range</th>\n",
       "      <th>Aggregate rating</th>\n",
       "    </tr>\n",
       "  </thead>\n",
       "  <tbody>\n",
       "    <tr>\n",
       "      <th>0</th>\n",
       "      <td>Pizza ��l Forno</td>\n",
       "      <td>pizza</td>\n",
       "      <td>Ankara</td>\n",
       "      <td>2</td>\n",
       "      <td>4.7</td>\n",
       "    </tr>\n",
       "    <tr>\n",
       "      <th>1</th>\n",
       "      <td>Zoeys Pizzeria</td>\n",
       "      <td>pizza, sandwich</td>\n",
       "      <td>Cedar Rapids/Iowa City</td>\n",
       "      <td>2</td>\n",
       "      <td>4.7</td>\n",
       "    </tr>\n",
       "    <tr>\n",
       "      <th>2</th>\n",
       "      <td>Flatbread Neapolitan Pizzeria</td>\n",
       "      <td>italian, pizza</td>\n",
       "      <td>Boise</td>\n",
       "      <td>2</td>\n",
       "      <td>4.6</td>\n",
       "    </tr>\n",
       "    <tr>\n",
       "      <th>3</th>\n",
       "      <td>Fong's Pizza</td>\n",
       "      <td>chinese, pizza</td>\n",
       "      <td>Des Moines</td>\n",
       "      <td>2</td>\n",
       "      <td>4.6</td>\n",
       "    </tr>\n",
       "    <tr>\n",
       "      <th>4</th>\n",
       "      <td>Onesta</td>\n",
       "      <td>pizza, cafe, italian</td>\n",
       "      <td>Bangalore</td>\n",
       "      <td>2</td>\n",
       "      <td>4.6</td>\n",
       "    </tr>\n",
       "  </tbody>\n",
       "</table>\n",
       "</div>"
      ],
      "text/plain": [
       "                 Restaurant Name              Cuisines  \\\n",
       "0                Pizza ��l Forno                 pizza   \n",
       "1                 Zoeys Pizzeria       pizza, sandwich   \n",
       "2  Flatbread Neapolitan Pizzeria        italian, pizza   \n",
       "3                   Fong's Pizza        chinese, pizza   \n",
       "4                         Onesta  pizza, cafe, italian   \n",
       "\n",
       "                     City  Price range  Aggregate rating  \n",
       "0                  Ankara            2               4.7  \n",
       "1  Cedar Rapids/Iowa City            2               4.7  \n",
       "2                   Boise            2               4.6  \n",
       "3              Des Moines            2               4.6  \n",
       "4               Bangalore            2               4.6  "
      ]
     },
     "execution_count": 41,
     "metadata": {},
     "output_type": "execute_result"
    }
   ],
   "source": [
    "recommend_restaurants(\"chinese\", 3)\n",
    "recommend_restaurants(\"pizza\", 2)\n"
   ]
  },
  {
   "cell_type": "code",
   "execution_count": 42,
   "id": "f6a1217e-5719-4943-96cb-3817d72ed0c7",
   "metadata": {},
   "outputs": [
    {
     "name": "stdout",
     "output_type": "stream",
     "text": [
      "Sample Recommendation:\n",
      "\n",
      " sample Recommendation for: North Indian | Price range 2\n"
     ]
    },
    {
     "data": {
      "text/html": [
       "<div>\n",
       "<style scoped>\n",
       "    .dataframe tbody tr th:only-of-type {\n",
       "        vertical-align: middle;\n",
       "    }\n",
       "\n",
       "    .dataframe tbody tr th {\n",
       "        vertical-align: top;\n",
       "    }\n",
       "\n",
       "    .dataframe thead th {\n",
       "        text-align: right;\n",
       "    }\n",
       "</style>\n",
       "<table border=\"1\" class=\"dataframe\">\n",
       "  <thead>\n",
       "    <tr style=\"text-align: right;\">\n",
       "      <th></th>\n",
       "      <th>Restaurant Name</th>\n",
       "      <th>Cuisines</th>\n",
       "      <th>City</th>\n",
       "      <th>Price range</th>\n",
       "      <th>Aggregate rating</th>\n",
       "    </tr>\n",
       "  </thead>\n",
       "  <tbody>\n",
       "    <tr>\n",
       "      <th>0</th>\n",
       "      <td>Dishoom</td>\n",
       "      <td>indian, north indian, curry, cafe</td>\n",
       "      <td>London</td>\n",
       "      <td>2</td>\n",
       "      <td>4.7</td>\n",
       "    </tr>\n",
       "    <tr>\n",
       "      <th>1</th>\n",
       "      <td>ECHOES Koramangala</td>\n",
       "      <td>continental, american, italian, north indian, ...</td>\n",
       "      <td>Bangalore</td>\n",
       "      <td>2</td>\n",
       "      <td>4.7</td>\n",
       "    </tr>\n",
       "    <tr>\n",
       "      <th>2</th>\n",
       "      <td>India Restaurant</td>\n",
       "      <td>biryani, north indian, chinese, mughlai</td>\n",
       "      <td>Kolkata</td>\n",
       "      <td>2</td>\n",
       "      <td>4.6</td>\n",
       "    </tr>\n",
       "    <tr>\n",
       "      <th>3</th>\n",
       "      <td>Aman Chicken</td>\n",
       "      <td>north indian, mughlai</td>\n",
       "      <td>Ludhiana</td>\n",
       "      <td>2</td>\n",
       "      <td>4.6</td>\n",
       "    </tr>\n",
       "    <tr>\n",
       "      <th>4</th>\n",
       "      <td>Food Scouts</td>\n",
       "      <td>north indian, chinese, continental</td>\n",
       "      <td>New Delhi</td>\n",
       "      <td>2</td>\n",
       "      <td>4.6</td>\n",
       "    </tr>\n",
       "  </tbody>\n",
       "</table>\n",
       "</div>"
      ],
      "text/plain": [
       "      Restaurant Name                                           Cuisines  \\\n",
       "0             Dishoom                  indian, north indian, curry, cafe   \n",
       "1  ECHOES Koramangala  continental, american, italian, north indian, ...   \n",
       "2    India Restaurant            biryani, north indian, chinese, mughlai   \n",
       "3        Aman Chicken                              north indian, mughlai   \n",
       "4         Food Scouts                 north indian, chinese, continental   \n",
       "\n",
       "        City  Price range  Aggregate rating  \n",
       "0     London            2               4.7  \n",
       "1  Bangalore            2               4.7  \n",
       "2    Kolkata            2               4.6  \n",
       "3   Ludhiana            2               4.6  \n",
       "4  New Delhi            2               4.6  "
      ]
     },
     "execution_count": 42,
     "metadata": {},
     "output_type": "execute_result"
    }
   ],
   "source": [
    "# Step 6: Test Example\n",
    "print(\"Sample Recommendation:\")\n",
    "recommend_restaurants(\"north Indian\", 2)"
   ]
  },
  {
   "cell_type": "code",
   "execution_count": 43,
   "id": "2429134f-89e9-43ce-8f37-42ecfb53f347",
   "metadata": {},
   "outputs": [
    {
     "name": "stdout",
     "output_type": "stream",
     "text": [
      "Requirement already satisfied: plotly in e:\\users\\bushra\\anaconda3\\lib\\site-packages (5.22.0)\n",
      "Requirement already satisfied: tenacity>=6.2.0 in e:\\users\\bushra\\anaconda3\\lib\\site-packages (from plotly) (8.2.2)\n",
      "Requirement already satisfied: packaging in e:\\users\\bushra\\anaconda3\\lib\\site-packages (from plotly) (23.2)\n",
      "Note: you may need to restart the kernel to use updated packages.\n"
     ]
    }
   ],
   "source": [
    "pip install plotly"
   ]
  },
  {
   "cell_type": "code",
   "execution_count": 44,
   "id": "34f85591-4c39-4f2b-a0a2-80d92ff910bb",
   "metadata": {},
   "outputs": [],
   "source": [
    "# Filter top-rated restaurants for plotting\n",
    "recommended_df = df[['Restaurant Name', 'Cuisines', 'City', 'Price range', 'Aggregate rating']]\n",
    "\n",
    "# Drop rows with missing values in important columns\n",
    "recommended_df = recommended_df.dropna(subset=['Restaurant Name', 'Cuisines', 'City', 'Aggregate rating'])\n",
    "\n",
    "# Get top 10 by rating\n",
    "recommended_df = recommended_df.sort_values(by='Aggregate rating', ascending=False).head(10)\n"
   ]
  },
  {
   "cell_type": "code",
   "execution_count": 45,
   "id": "3d31a2b7-30bd-44b6-87fb-9e61a4b034d3",
   "metadata": {},
   "outputs": [
    {
     "data": {
      "application/vnd.plotly.v1+json": {
       "config": {
        "plotlyServerURL": "https://plot.ly"
       },
       "data": [
        {
         "alignmentgroup": "True",
         "hovertemplate": "City=Gurgaon<br>Aggregate rating=%{x}<br>Restaurant Name=%{y}<br>Cuisines=%{text}<extra></extra>",
         "legendgroup": "Gurgaon",
         "marker": {
          "color": "#636efa",
          "pattern": {
           "shape": ""
          }
         },
         "name": "Gurgaon",
         "offsetgroup": "Gurgaon",
         "orientation": "h",
         "showlegend": true,
         "text": [
          "mexican, american, healthy food"
         ],
         "textposition": "auto",
         "type": "bar",
         "x": [
          4.9
         ],
         "xaxis": "x",
         "y": [
          "Caterspoint"
         ],
         "yaxis": "y"
        },
        {
         "alignmentgroup": "True",
         "hovertemplate": "City=Tangerang<br>Aggregate rating=%{x}<br>Restaurant Name=%{y}<br>Cuisines=%{text}<extra></extra>",
         "legendgroup": "Tangerang",
         "marker": {
          "color": "#EF553B",
          "pattern": {
           "shape": ""
          }
         },
         "name": "Tangerang",
         "offsetgroup": "Tangerang",
         "orientation": "h",
         "showlegend": true,
         "text": [
          "sunda, indonesian"
         ],
         "textposition": "auto",
         "type": "bar",
         "x": [
          4.9
         ],
         "xaxis": "x",
         "y": [
          "Talaga Sampireun"
         ],
         "yaxis": "y"
        },
        {
         "alignmentgroup": "True",
         "hovertemplate": "City=Auckland<br>Aggregate rating=%{x}<br>Restaurant Name=%{y}<br>Cuisines=%{text}<extra></extra>",
         "legendgroup": "Auckland",
         "marker": {
          "color": "#00cc96",
          "pattern": {
           "shape": ""
          }
         },
         "name": "Auckland",
         "offsetgroup": "Auckland",
         "orientation": "h",
         "showlegend": true,
         "text": [
          "desserts",
          "desserts"
         ],
         "textposition": "auto",
         "type": "bar",
         "x": [
          4.9,
          4.9
         ],
         "xaxis": "x",
         "y": [
          "Miann",
          "Milse"
         ],
         "yaxis": "y"
        },
        {
         "alignmentgroup": "True",
         "hovertemplate": "City=Rest of Hawaii<br>Aggregate rating=%{x}<br>Restaurant Name=%{y}<br>Cuisines=%{text}<extra></extra>",
         "legendgroup": "Rest of Hawaii",
         "marker": {
          "color": "#ab63fa",
          "pattern": {
           "shape": ""
          }
         },
         "name": "Rest of Hawaii",
         "offsetgroup": "Rest of Hawaii",
         "orientation": "h",
         "showlegend": true,
         "text": [
          "hawaiian, seafood",
          "japanese"
         ],
         "textposition": "auto",
         "type": "bar",
         "x": [
          4.9,
          4.9
         ],
         "xaxis": "x",
         "y": [
          "Mama's Fish House",
          "Marukame Udon"
         ],
         "yaxis": "y"
        },
        {
         "alignmentgroup": "True",
         "hovertemplate": "City=Rio de Janeiro<br>Aggregate rating=%{x}<br>Restaurant Name=%{y}<br>Cuisines=%{text}<extra></extra>",
         "legendgroup": "Rio de Janeiro",
         "marker": {
          "color": "#FFA15A",
          "pattern": {
           "shape": ""
          }
         },
         "name": "Rio de Janeiro",
         "offsetgroup": "Rio de Janeiro",
         "orientation": "h",
         "showlegend": true,
         "text": [
          "brazilian, bar food",
          "brazilian, bar food"
         ],
         "textposition": "auto",
         "type": "bar",
         "x": [
          4.9,
          4.9
         ],
         "xaxis": "x",
         "y": [
          "Garota de Ipanema",
          "Braseiro da G��vea"
         ],
         "yaxis": "y"
        },
        {
         "alignmentgroup": "True",
         "hovertemplate": "City=Jakarta<br>Aggregate rating=%{x}<br>Restaurant Name=%{y}<br>Cuisines=%{text}<extra></extra>",
         "legendgroup": "Jakarta",
         "marker": {
          "color": "#19d3f3",
          "pattern": {
           "shape": ""
          }
         },
         "name": "Jakarta",
         "offsetgroup": "Jakarta",
         "orientation": "h",
         "showlegend": true,
         "text": [
          "sunda, indonesian"
         ],
         "textposition": "auto",
         "type": "bar",
         "x": [
          4.9
         ],
         "xaxis": "x",
         "y": [
          "Talaga Sampireun"
         ],
         "yaxis": "y"
        },
        {
         "alignmentgroup": "True",
         "hovertemplate": "City=Orlando<br>Aggregate rating=%{x}<br>Restaurant Name=%{y}<br>Cuisines=%{text}<extra></extra>",
         "legendgroup": "Orlando",
         "marker": {
          "color": "#FF6692",
          "pattern": {
           "shape": ""
          }
         },
         "name": "Orlando",
         "offsetgroup": "Orlando",
         "orientation": "h",
         "showlegend": true,
         "text": [
          "american, bbq, sandwich"
         ],
         "textposition": "auto",
         "type": "bar",
         "x": [
          4.9
         ],
         "xaxis": "x",
         "y": [
          "Yellow Dog Eats"
         ],
         "yaxis": "y"
        }
       ],
       "layout": {
        "barmode": "relative",
        "height": 500,
        "legend": {
         "title": {
          "text": "City"
         },
         "tracegroupgap": 0
        },
        "template": {
         "data": {
          "bar": [
           {
            "error_x": {
             "color": "#2a3f5f"
            },
            "error_y": {
             "color": "#2a3f5f"
            },
            "marker": {
             "line": {
              "color": "#E5ECF6",
              "width": 0.5
             },
             "pattern": {
              "fillmode": "overlay",
              "size": 10,
              "solidity": 0.2
             }
            },
            "type": "bar"
           }
          ],
          "barpolar": [
           {
            "marker": {
             "line": {
              "color": "#E5ECF6",
              "width": 0.5
             },
             "pattern": {
              "fillmode": "overlay",
              "size": 10,
              "solidity": 0.2
             }
            },
            "type": "barpolar"
           }
          ],
          "carpet": [
           {
            "aaxis": {
             "endlinecolor": "#2a3f5f",
             "gridcolor": "white",
             "linecolor": "white",
             "minorgridcolor": "white",
             "startlinecolor": "#2a3f5f"
            },
            "baxis": {
             "endlinecolor": "#2a3f5f",
             "gridcolor": "white",
             "linecolor": "white",
             "minorgridcolor": "white",
             "startlinecolor": "#2a3f5f"
            },
            "type": "carpet"
           }
          ],
          "choropleth": [
           {
            "colorbar": {
             "outlinewidth": 0,
             "ticks": ""
            },
            "type": "choropleth"
           }
          ],
          "contour": [
           {
            "colorbar": {
             "outlinewidth": 0,
             "ticks": ""
            },
            "colorscale": [
             [
              0,
              "#0d0887"
             ],
             [
              0.1111111111111111,
              "#46039f"
             ],
             [
              0.2222222222222222,
              "#7201a8"
             ],
             [
              0.3333333333333333,
              "#9c179e"
             ],
             [
              0.4444444444444444,
              "#bd3786"
             ],
             [
              0.5555555555555556,
              "#d8576b"
             ],
             [
              0.6666666666666666,
              "#ed7953"
             ],
             [
              0.7777777777777778,
              "#fb9f3a"
             ],
             [
              0.8888888888888888,
              "#fdca26"
             ],
             [
              1,
              "#f0f921"
             ]
            ],
            "type": "contour"
           }
          ],
          "contourcarpet": [
           {
            "colorbar": {
             "outlinewidth": 0,
             "ticks": ""
            },
            "type": "contourcarpet"
           }
          ],
          "heatmap": [
           {
            "colorbar": {
             "outlinewidth": 0,
             "ticks": ""
            },
            "colorscale": [
             [
              0,
              "#0d0887"
             ],
             [
              0.1111111111111111,
              "#46039f"
             ],
             [
              0.2222222222222222,
              "#7201a8"
             ],
             [
              0.3333333333333333,
              "#9c179e"
             ],
             [
              0.4444444444444444,
              "#bd3786"
             ],
             [
              0.5555555555555556,
              "#d8576b"
             ],
             [
              0.6666666666666666,
              "#ed7953"
             ],
             [
              0.7777777777777778,
              "#fb9f3a"
             ],
             [
              0.8888888888888888,
              "#fdca26"
             ],
             [
              1,
              "#f0f921"
             ]
            ],
            "type": "heatmap"
           }
          ],
          "heatmapgl": [
           {
            "colorbar": {
             "outlinewidth": 0,
             "ticks": ""
            },
            "colorscale": [
             [
              0,
              "#0d0887"
             ],
             [
              0.1111111111111111,
              "#46039f"
             ],
             [
              0.2222222222222222,
              "#7201a8"
             ],
             [
              0.3333333333333333,
              "#9c179e"
             ],
             [
              0.4444444444444444,
              "#bd3786"
             ],
             [
              0.5555555555555556,
              "#d8576b"
             ],
             [
              0.6666666666666666,
              "#ed7953"
             ],
             [
              0.7777777777777778,
              "#fb9f3a"
             ],
             [
              0.8888888888888888,
              "#fdca26"
             ],
             [
              1,
              "#f0f921"
             ]
            ],
            "type": "heatmapgl"
           }
          ],
          "histogram": [
           {
            "marker": {
             "pattern": {
              "fillmode": "overlay",
              "size": 10,
              "solidity": 0.2
             }
            },
            "type": "histogram"
           }
          ],
          "histogram2d": [
           {
            "colorbar": {
             "outlinewidth": 0,
             "ticks": ""
            },
            "colorscale": [
             [
              0,
              "#0d0887"
             ],
             [
              0.1111111111111111,
              "#46039f"
             ],
             [
              0.2222222222222222,
              "#7201a8"
             ],
             [
              0.3333333333333333,
              "#9c179e"
             ],
             [
              0.4444444444444444,
              "#bd3786"
             ],
             [
              0.5555555555555556,
              "#d8576b"
             ],
             [
              0.6666666666666666,
              "#ed7953"
             ],
             [
              0.7777777777777778,
              "#fb9f3a"
             ],
             [
              0.8888888888888888,
              "#fdca26"
             ],
             [
              1,
              "#f0f921"
             ]
            ],
            "type": "histogram2d"
           }
          ],
          "histogram2dcontour": [
           {
            "colorbar": {
             "outlinewidth": 0,
             "ticks": ""
            },
            "colorscale": [
             [
              0,
              "#0d0887"
             ],
             [
              0.1111111111111111,
              "#46039f"
             ],
             [
              0.2222222222222222,
              "#7201a8"
             ],
             [
              0.3333333333333333,
              "#9c179e"
             ],
             [
              0.4444444444444444,
              "#bd3786"
             ],
             [
              0.5555555555555556,
              "#d8576b"
             ],
             [
              0.6666666666666666,
              "#ed7953"
             ],
             [
              0.7777777777777778,
              "#fb9f3a"
             ],
             [
              0.8888888888888888,
              "#fdca26"
             ],
             [
              1,
              "#f0f921"
             ]
            ],
            "type": "histogram2dcontour"
           }
          ],
          "mesh3d": [
           {
            "colorbar": {
             "outlinewidth": 0,
             "ticks": ""
            },
            "type": "mesh3d"
           }
          ],
          "parcoords": [
           {
            "line": {
             "colorbar": {
              "outlinewidth": 0,
              "ticks": ""
             }
            },
            "type": "parcoords"
           }
          ],
          "pie": [
           {
            "automargin": true,
            "type": "pie"
           }
          ],
          "scatter": [
           {
            "fillpattern": {
             "fillmode": "overlay",
             "size": 10,
             "solidity": 0.2
            },
            "type": "scatter"
           }
          ],
          "scatter3d": [
           {
            "line": {
             "colorbar": {
              "outlinewidth": 0,
              "ticks": ""
             }
            },
            "marker": {
             "colorbar": {
              "outlinewidth": 0,
              "ticks": ""
             }
            },
            "type": "scatter3d"
           }
          ],
          "scattercarpet": [
           {
            "marker": {
             "colorbar": {
              "outlinewidth": 0,
              "ticks": ""
             }
            },
            "type": "scattercarpet"
           }
          ],
          "scattergeo": [
           {
            "marker": {
             "colorbar": {
              "outlinewidth": 0,
              "ticks": ""
             }
            },
            "type": "scattergeo"
           }
          ],
          "scattergl": [
           {
            "marker": {
             "colorbar": {
              "outlinewidth": 0,
              "ticks": ""
             }
            },
            "type": "scattergl"
           }
          ],
          "scattermapbox": [
           {
            "marker": {
             "colorbar": {
              "outlinewidth": 0,
              "ticks": ""
             }
            },
            "type": "scattermapbox"
           }
          ],
          "scatterpolar": [
           {
            "marker": {
             "colorbar": {
              "outlinewidth": 0,
              "ticks": ""
             }
            },
            "type": "scatterpolar"
           }
          ],
          "scatterpolargl": [
           {
            "marker": {
             "colorbar": {
              "outlinewidth": 0,
              "ticks": ""
             }
            },
            "type": "scatterpolargl"
           }
          ],
          "scatterternary": [
           {
            "marker": {
             "colorbar": {
              "outlinewidth": 0,
              "ticks": ""
             }
            },
            "type": "scatterternary"
           }
          ],
          "surface": [
           {
            "colorbar": {
             "outlinewidth": 0,
             "ticks": ""
            },
            "colorscale": [
             [
              0,
              "#0d0887"
             ],
             [
              0.1111111111111111,
              "#46039f"
             ],
             [
              0.2222222222222222,
              "#7201a8"
             ],
             [
              0.3333333333333333,
              "#9c179e"
             ],
             [
              0.4444444444444444,
              "#bd3786"
             ],
             [
              0.5555555555555556,
              "#d8576b"
             ],
             [
              0.6666666666666666,
              "#ed7953"
             ],
             [
              0.7777777777777778,
              "#fb9f3a"
             ],
             [
              0.8888888888888888,
              "#fdca26"
             ],
             [
              1,
              "#f0f921"
             ]
            ],
            "type": "surface"
           }
          ],
          "table": [
           {
            "cells": {
             "fill": {
              "color": "#EBF0F8"
             },
             "line": {
              "color": "white"
             }
            },
            "header": {
             "fill": {
              "color": "#C8D4E3"
             },
             "line": {
              "color": "white"
             }
            },
            "type": "table"
           }
          ]
         },
         "layout": {
          "annotationdefaults": {
           "arrowcolor": "#2a3f5f",
           "arrowhead": 0,
           "arrowwidth": 1
          },
          "autotypenumbers": "strict",
          "coloraxis": {
           "colorbar": {
            "outlinewidth": 0,
            "ticks": ""
           }
          },
          "colorscale": {
           "diverging": [
            [
             0,
             "#8e0152"
            ],
            [
             0.1,
             "#c51b7d"
            ],
            [
             0.2,
             "#de77ae"
            ],
            [
             0.3,
             "#f1b6da"
            ],
            [
             0.4,
             "#fde0ef"
            ],
            [
             0.5,
             "#f7f7f7"
            ],
            [
             0.6,
             "#e6f5d0"
            ],
            [
             0.7,
             "#b8e186"
            ],
            [
             0.8,
             "#7fbc41"
            ],
            [
             0.9,
             "#4d9221"
            ],
            [
             1,
             "#276419"
            ]
           ],
           "sequential": [
            [
             0,
             "#0d0887"
            ],
            [
             0.1111111111111111,
             "#46039f"
            ],
            [
             0.2222222222222222,
             "#7201a8"
            ],
            [
             0.3333333333333333,
             "#9c179e"
            ],
            [
             0.4444444444444444,
             "#bd3786"
            ],
            [
             0.5555555555555556,
             "#d8576b"
            ],
            [
             0.6666666666666666,
             "#ed7953"
            ],
            [
             0.7777777777777778,
             "#fb9f3a"
            ],
            [
             0.8888888888888888,
             "#fdca26"
            ],
            [
             1,
             "#f0f921"
            ]
           ],
           "sequentialminus": [
            [
             0,
             "#0d0887"
            ],
            [
             0.1111111111111111,
             "#46039f"
            ],
            [
             0.2222222222222222,
             "#7201a8"
            ],
            [
             0.3333333333333333,
             "#9c179e"
            ],
            [
             0.4444444444444444,
             "#bd3786"
            ],
            [
             0.5555555555555556,
             "#d8576b"
            ],
            [
             0.6666666666666666,
             "#ed7953"
            ],
            [
             0.7777777777777778,
             "#fb9f3a"
            ],
            [
             0.8888888888888888,
             "#fdca26"
            ],
            [
             1,
             "#f0f921"
            ]
           ]
          },
          "colorway": [
           "#636efa",
           "#EF553B",
           "#00cc96",
           "#ab63fa",
           "#FFA15A",
           "#19d3f3",
           "#FF6692",
           "#B6E880",
           "#FF97FF",
           "#FECB52"
          ],
          "font": {
           "color": "#2a3f5f"
          },
          "geo": {
           "bgcolor": "white",
           "lakecolor": "white",
           "landcolor": "#E5ECF6",
           "showlakes": true,
           "showland": true,
           "subunitcolor": "white"
          },
          "hoverlabel": {
           "align": "left"
          },
          "hovermode": "closest",
          "mapbox": {
           "style": "light"
          },
          "paper_bgcolor": "white",
          "plot_bgcolor": "#E5ECF6",
          "polar": {
           "angularaxis": {
            "gridcolor": "white",
            "linecolor": "white",
            "ticks": ""
           },
           "bgcolor": "#E5ECF6",
           "radialaxis": {
            "gridcolor": "white",
            "linecolor": "white",
            "ticks": ""
           }
          },
          "scene": {
           "xaxis": {
            "backgroundcolor": "#E5ECF6",
            "gridcolor": "white",
            "gridwidth": 2,
            "linecolor": "white",
            "showbackground": true,
            "ticks": "",
            "zerolinecolor": "white"
           },
           "yaxis": {
            "backgroundcolor": "#E5ECF6",
            "gridcolor": "white",
            "gridwidth": 2,
            "linecolor": "white",
            "showbackground": true,
            "ticks": "",
            "zerolinecolor": "white"
           },
           "zaxis": {
            "backgroundcolor": "#E5ECF6",
            "gridcolor": "white",
            "gridwidth": 2,
            "linecolor": "white",
            "showbackground": true,
            "ticks": "",
            "zerolinecolor": "white"
           }
          },
          "shapedefaults": {
           "line": {
            "color": "#2a3f5f"
           }
          },
          "ternary": {
           "aaxis": {
            "gridcolor": "white",
            "linecolor": "white",
            "ticks": ""
           },
           "baxis": {
            "gridcolor": "white",
            "linecolor": "white",
            "ticks": ""
           },
           "bgcolor": "#E5ECF6",
           "caxis": {
            "gridcolor": "white",
            "linecolor": "white",
            "ticks": ""
           }
          },
          "title": {
           "x": 0.05
          },
          "xaxis": {
           "automargin": true,
           "gridcolor": "white",
           "linecolor": "white",
           "ticks": "",
           "title": {
            "standoff": 15
           },
           "zerolinecolor": "white",
           "zerolinewidth": 2
          },
          "yaxis": {
           "automargin": true,
           "gridcolor": "white",
           "linecolor": "white",
           "ticks": "",
           "title": {
            "standoff": 15
           },
           "zerolinecolor": "white",
           "zerolinewidth": 2
          }
         }
        },
        "title": {
         "font": {
          "size": 18
         },
         "text": "Top Recommended Restaurants with Ratings and Cuisines"
        },
        "width": 900,
        "xaxis": {
         "anchor": "y",
         "autorange": true,
         "domain": [
          0,
          1
         ],
         "range": [
          0,
          10.31578947368421
         ],
         "title": {
          "text": "Rating"
         },
         "type": "linear"
        },
        "yaxis": {
         "anchor": "x",
         "autorange": true,
         "domain": [
          0,
          1
         ],
         "range": [
          -0.5,
          8.5
         ],
         "title": {
          "text": "Restaurant Name"
         },
         "type": "category"
        }
       }
      },
      "image/png": "[encoded data removed]",
      "text/html": [
       "<div>                            <div id=\"38b7c0c5-d7d1-4688-a54d-a2bd225cf396\" class=\"plotly-graph-div\" style=\"height:500px; width:900px;\"></div>            <script type=\"text/javascript\">                require([\"plotly\"], function(Plotly) {                    window.PLOTLYENV=window.PLOTLYENV || {};                                    if (document.getElementById(\"38b7c0c5-d7d1-4688-a54d-a2bd225cf396\")) {                    Plotly.newPlot(                        \"38b7c0c5-d7d1-4688-a54d-a2bd225cf396\",                        [{\"alignmentgroup\":\"True\",\"hovertemplate\":\"City=Gurgaon\\u003cbr\\u003eAggregate rating=%{x}\\u003cbr\\u003eRestaurant Name=%{y}\\u003cbr\\u003eCuisines=%{text}\\u003cextra\\u003e\\u003c\\u002fextra\\u003e\",\"legendgroup\":\"Gurgaon\",\"marker\":{\"color\":\"#636efa\",\"pattern\":{\"shape\":\"\"}},\"name\":\"Gurgaon\",\"offsetgroup\":\"Gurgaon\",\"orientation\":\"h\",\"showlegend\":true,\"text\":[\"mexican, american, healthy food\"],\"textposition\":\"auto\",\"x\":[4.9],\"xaxis\":\"x\",\"y\":[\"Caterspoint\"],\"yaxis\":\"y\",\"type\":\"bar\"},{\"alignmentgroup\":\"True\",\"hovertemplate\":\"City=Tangerang\\u003cbr\\u003eAggregate rating=%{x}\\u003cbr\\u003eRestaurant Name=%{y}\\u003cbr\\u003eCuisines=%{text}\\u003cextra\\u003e\\u003c\\u002fextra\\u003e\",\"legendgroup\":\"Tangerang\",\"marker\":{\"color\":\"#EF553B\",\"pattern\":{\"shape\":\"\"}},\"name\":\"Tangerang\",\"offsetgroup\":\"Tangerang\",\"orientation\":\"h\",\"showlegend\":true,\"text\":[\"sunda, indonesian\"],\"textposition\":\"auto\",\"x\":[4.9],\"xaxis\":\"x\",\"y\":[\"Talaga Sampireun\"],\"yaxis\":\"y\",\"type\":\"bar\"},{\"alignmentgroup\":\"True\",\"hovertemplate\":\"City=Auckland\\u003cbr\\u003eAggregate rating=%{x}\\u003cbr\\u003eRestaurant Name=%{y}\\u003cbr\\u003eCuisines=%{text}\\u003cextra\\u003e\\u003c\\u002fextra\\u003e\",\"legendgroup\":\"Auckland\",\"marker\":{\"color\":\"#00cc96\",\"pattern\":{\"shape\":\"\"}},\"name\":\"Auckland\",\"offsetgroup\":\"Auckland\",\"orientation\":\"h\",\"showlegend\":true,\"text\":[\"desserts\",\"desserts\"],\"textposition\":\"auto\",\"x\":[4.9,4.9],\"xaxis\":\"x\",\"y\":[\"Miann\",\"Milse\"],\"yaxis\":\"y\",\"type\":\"bar\"},{\"alignmentgroup\":\"True\",\"hovertemplate\":\"City=Rest of Hawaii\\u003cbr\\u003eAggregate rating=%{x}\\u003cbr\\u003eRestaurant Name=%{y}\\u003cbr\\u003eCuisines=%{text}\\u003cextra\\u003e\\u003c\\u002fextra\\u003e\",\"legendgroup\":\"Rest of Hawaii\",\"marker\":{\"color\":\"#ab63fa\",\"pattern\":{\"shape\":\"\"}},\"name\":\"Rest of Hawaii\",\"offsetgroup\":\"Rest of Hawaii\",\"orientation\":\"h\",\"showlegend\":true,\"text\":[\"hawaiian, seafood\",\"japanese\"],\"textposition\":\"auto\",\"x\":[4.9,4.9],\"xaxis\":\"x\",\"y\":[\"Mama's Fish House\",\"Marukame Udon\"],\"yaxis\":\"y\",\"type\":\"bar\"},{\"alignmentgroup\":\"True\",\"hovertemplate\":\"City=Rio de Janeiro\\u003cbr\\u003eAggregate rating=%{x}\\u003cbr\\u003eRestaurant Name=%{y}\\u003cbr\\u003eCuisines=%{text}\\u003cextra\\u003e\\u003c\\u002fextra\\u003e\",\"legendgroup\":\"Rio de Janeiro\",\"marker\":{\"color\":\"#FFA15A\",\"pattern\":{\"shape\":\"\"}},\"name\":\"Rio de Janeiro\",\"offsetgroup\":\"Rio de Janeiro\",\"orientation\":\"h\",\"showlegend\":true,\"text\":[\"brazilian, bar food\",\"brazilian, bar food\"],\"textposition\":\"auto\",\"x\":[4.9,4.9],\"xaxis\":\"x\",\"y\":[\"Garota de Ipanema\",\"Braseiro da G\\ufffd\\ufffdvea\"],\"yaxis\":\"y\",\"type\":\"bar\"},{\"alignmentgroup\":\"True\",\"hovertemplate\":\"City=Jakarta\\u003cbr\\u003eAggregate rating=%{x}\\u003cbr\\u003eRestaurant Name=%{y}\\u003cbr\\u003eCuisines=%{text}\\u003cextra\\u003e\\u003c\\u002fextra\\u003e\",\"legendgroup\":\"Jakarta\",\"marker\":{\"color\":\"#19d3f3\",\"pattern\":{\"shape\":\"\"}},\"name\":\"Jakarta\",\"offsetgroup\":\"Jakarta\",\"orientation\":\"h\",\"showlegend\":true,\"text\":[\"sunda, indonesian\"],\"textposition\":\"auto\",\"x\":[4.9],\"xaxis\":\"x\",\"y\":[\"Talaga Sampireun\"],\"yaxis\":\"y\",\"type\":\"bar\"},{\"alignmentgroup\":\"True\",\"hovertemplate\":\"City=Orlando\\u003cbr\\u003eAggregate rating=%{x}\\u003cbr\\u003eRestaurant Name=%{y}\\u003cbr\\u003eCuisines=%{text}\\u003cextra\\u003e\\u003c\\u002fextra\\u003e\",\"legendgroup\":\"Orlando\",\"marker\":{\"color\":\"#FF6692\",\"pattern\":{\"shape\":\"\"}},\"name\":\"Orlando\",\"offsetgroup\":\"Orlando\",\"orientation\":\"h\",\"showlegend\":true,\"text\":[\"american, bbq, sandwich\"],\"textposition\":\"auto\",\"x\":[4.9],\"xaxis\":\"x\",\"y\":[\"Yellow Dog Eats\"],\"yaxis\":\"y\",\"type\":\"bar\"}],                        {\"template\":{\"data\":{\"histogram2dcontour\":[{\"type\":\"histogram2dcontour\",\"colorbar\":{\"outlinewidth\":0,\"ticks\":\"\"},\"colorscale\":[[0.0,\"#0d0887\"],[0.1111111111111111,\"#46039f\"],[0.2222222222222222,\"#7201a8\"],[0.3333333333333333,\"#9c179e\"],[0.4444444444444444,\"#bd3786\"],[0.5555555555555556,\"#d8576b\"],[0.6666666666666666,\"#ed7953\"],[0.7777777777777778,\"#fb9f3a\"],[0.8888888888888888,\"#fdca26\"],[1.0,\"#f0f921\"]]}],\"choropleth\":[{\"type\":\"choropleth\",\"colorbar\":{\"outlinewidth\":0,\"ticks\":\"\"}}],\"histogram2d\":[{\"type\":\"histogram2d\",\"colorbar\":{\"outlinewidth\":0,\"ticks\":\"\"},\"colorscale\":[[0.0,\"#0d0887\"],[0.1111111111111111,\"#46039f\"],[0.2222222222222222,\"#7201a8\"],[0.3333333333333333,\"#9c179e\"],[0.4444444444444444,\"#bd3786\"],[0.5555555555555556,\"#d8576b\"],[0.6666666666666666,\"#ed7953\"],[0.7777777777777778,\"#fb9f3a\"],[0.8888888888888888,\"#fdca26\"],[1.0,\"#f0f921\"]]}],\"heatmap\":[{\"type\":\"heatmap\",\"colorbar\":{\"outlinewidth\":0,\"ticks\":\"\"},\"colorscale\":[[0.0,\"#0d0887\"],[0.1111111111111111,\"#46039f\"],[0.2222222222222222,\"#7201a8\"],[0.3333333333333333,\"#9c179e\"],[0.4444444444444444,\"#bd3786\"],[0.5555555555555556,\"#d8576b\"],[0.6666666666666666,\"#ed7953\"],[0.7777777777777778,\"#fb9f3a\"],[0.8888888888888888,\"#fdca26\"],[1.0,\"#f0f921\"]]}],\"heatmapgl\":[{\"type\":\"heatmapgl\",\"colorbar\":{\"outlinewidth\":0,\"ticks\":\"\"},\"colorscale\":[[0.0,\"#0d0887\"],[0.1111111111111111,\"#46039f\"],[0.2222222222222222,\"#7201a8\"],[0.3333333333333333,\"#9c179e\"],[0.4444444444444444,\"#bd3786\"],[0.5555555555555556,\"#d8576b\"],[0.6666666666666666,\"#ed7953\"],[0.7777777777777778,\"#fb9f3a\"],[0.8888888888888888,\"#fdca26\"],[1.0,\"#f0f921\"]]}],\"contourcarpet\":[{\"type\":\"contourcarpet\",\"colorbar\":{\"outlinewidth\":0,\"ticks\":\"\"}}],\"contour\":[{\"type\":\"contour\",\"colorbar\":{\"outlinewidth\":0,\"ticks\":\"\"},\"colorscale\":[[0.0,\"#0d0887\"],[0.1111111111111111,\"#46039f\"],[0.2222222222222222,\"#7201a8\"],[0.3333333333333333,\"#9c179e\"],[0.4444444444444444,\"#bd3786\"],[0.5555555555555556,\"#d8576b\"],[0.6666666666666666,\"#ed7953\"],[0.7777777777777778,\"#fb9f3a\"],[0.8888888888888888,\"#fdca26\"],[1.0,\"#f0f921\"]]}],\"surface\":[{\"type\":\"surface\",\"colorbar\":{\"outlinewidth\":0,\"ticks\":\"\"},\"colorscale\":[[0.0,\"#0d0887\"],[0.1111111111111111,\"#46039f\"],[0.2222222222222222,\"#7201a8\"],[0.3333333333333333,\"#9c179e\"],[0.4444444444444444,\"#bd3786\"],[0.5555555555555556,\"#d8576b\"],[0.6666666666666666,\"#ed7953\"],[0.7777777777777778,\"#fb9f3a\"],[0.8888888888888888,\"#fdca26\"],[1.0,\"#f0f921\"]]}],\"mesh3d\":[{\"type\":\"mesh3d\",\"colorbar\":{\"outlinewidth\":0,\"ticks\":\"\"}}],\"scatter\":[{\"fillpattern\":{\"fillmode\":\"overlay\",\"size\":10,\"solidity\":0.2},\"type\":\"scatter\"}],\"parcoords\":[{\"type\":\"parcoords\",\"line\":{\"colorbar\":{\"outlinewidth\":0,\"ticks\":\"\"}}}],\"scatterpolargl\":[{\"type\":\"scatterpolargl\",\"marker\":{\"colorbar\":{\"outlinewidth\":0,\"ticks\":\"\"}}}],\"bar\":[{\"error_x\":{\"color\":\"#2a3f5f\"},\"error_y\":{\"color\":\"#2a3f5f\"},\"marker\":{\"line\":{\"color\":\"#E5ECF6\",\"width\":0.5},\"pattern\":{\"fillmode\":\"overlay\",\"size\":10,\"solidity\":0.2}},\"type\":\"bar\"}],\"scattergeo\":[{\"type\":\"scattergeo\",\"marker\":{\"colorbar\":{\"outlinewidth\":0,\"ticks\":\"\"}}}],\"scatterpolar\":[{\"type\":\"scatterpolar\",\"marker\":{\"colorbar\":{\"outlinewidth\":0,\"ticks\":\"\"}}}],\"histogram\":[{\"marker\":{\"pattern\":{\"fillmode\":\"overlay\",\"size\":10,\"solidity\":0.2}},\"type\":\"histogram\"}],\"scattergl\":[{\"type\":\"scattergl\",\"marker\":{\"colorbar\":{\"outlinewidth\":0,\"ticks\":\"\"}}}],\"scatter3d\":[{\"type\":\"scatter3d\",\"line\":{\"colorbar\":{\"outlinewidth\":0,\"ticks\":\"\"}},\"marker\":{\"colorbar\":{\"outlinewidth\":0,\"ticks\":\"\"}}}],\"scattermapbox\":[{\"type\":\"scattermapbox\",\"marker\":{\"colorbar\":{\"outlinewidth\":0,\"ticks\":\"\"}}}],\"scatterternary\":[{\"type\":\"scatterternary\",\"marker\":{\"colorbar\":{\"outlinewidth\":0,\"ticks\":\"\"}}}],\"scattercarpet\":[{\"type\":\"scattercarpet\",\"marker\":{\"colorbar\":{\"outlinewidth\":0,\"ticks\":\"\"}}}],\"carpet\":[{\"aaxis\":{\"endlinecolor\":\"#2a3f5f\",\"gridcolor\":\"white\",\"linecolor\":\"white\",\"minorgridcolor\":\"white\",\"startlinecolor\":\"#2a3f5f\"},\"baxis\":{\"endlinecolor\":\"#2a3f5f\",\"gridcolor\":\"white\",\"linecolor\":\"white\",\"minorgridcolor\":\"white\",\"startlinecolor\":\"#2a3f5f\"},\"type\":\"carpet\"}],\"table\":[{\"cells\":{\"fill\":{\"color\":\"#EBF0F8\"},\"line\":{\"color\":\"white\"}},\"header\":{\"fill\":{\"color\":\"#C8D4E3\"},\"line\":{\"color\":\"white\"}},\"type\":\"table\"}],\"barpolar\":[{\"marker\":{\"line\":{\"color\":\"#E5ECF6\",\"width\":0.5},\"pattern\":{\"fillmode\":\"overlay\",\"size\":10,\"solidity\":0.2}},\"type\":\"barpolar\"}],\"pie\":[{\"automargin\":true,\"type\":\"pie\"}]},\"layout\":{\"autotypenumbers\":\"strict\",\"colorway\":[\"#636efa\",\"#EF553B\",\"#00cc96\",\"#ab63fa\",\"#FFA15A\",\"#19d3f3\",\"#FF6692\",\"#B6E880\",\"#FF97FF\",\"#FECB52\"],\"font\":{\"color\":\"#2a3f5f\"},\"hovermode\":\"closest\",\"hoverlabel\":{\"align\":\"left\"},\"paper_bgcolor\":\"white\",\"plot_bgcolor\":\"#E5ECF6\",\"polar\":{\"bgcolor\":\"#E5ECF6\",\"angularaxis\":{\"gridcolor\":\"white\",\"linecolor\":\"white\",\"ticks\":\"\"},\"radialaxis\":{\"gridcolor\":\"white\",\"linecolor\":\"white\",\"ticks\":\"\"}},\"ternary\":{\"bgcolor\":\"#E5ECF6\",\"aaxis\":{\"gridcolor\":\"white\",\"linecolor\":\"white\",\"ticks\":\"\"},\"baxis\":{\"gridcolor\":\"white\",\"linecolor\":\"white\",\"ticks\":\"\"},\"caxis\":{\"gridcolor\":\"white\",\"linecolor\":\"white\",\"ticks\":\"\"}},\"coloraxis\":{\"colorbar\":{\"outlinewidth\":0,\"ticks\":\"\"}},\"colorscale\":{\"sequential\":[[0.0,\"#0d0887\"],[0.1111111111111111,\"#46039f\"],[0.2222222222222222,\"#7201a8\"],[0.3333333333333333,\"#9c179e\"],[0.4444444444444444,\"#bd3786\"],[0.5555555555555556,\"#d8576b\"],[0.6666666666666666,\"#ed7953\"],[0.7777777777777778,\"#fb9f3a\"],[0.8888888888888888,\"#fdca26\"],[1.0,\"#f0f921\"]],\"sequentialminus\":[[0.0,\"#0d0887\"],[0.1111111111111111,\"#46039f\"],[0.2222222222222222,\"#7201a8\"],[0.3333333333333333,\"#9c179e\"],[0.4444444444444444,\"#bd3786\"],[0.5555555555555556,\"#d8576b\"],[0.6666666666666666,\"#ed7953\"],[0.7777777777777778,\"#fb9f3a\"],[0.8888888888888888,\"#fdca26\"],[1.0,\"#f0f921\"]],\"diverging\":[[0,\"#8e0152\"],[0.1,\"#c51b7d\"],[0.2,\"#de77ae\"],[0.3,\"#f1b6da\"],[0.4,\"#fde0ef\"],[0.5,\"#f7f7f7\"],[0.6,\"#e6f5d0\"],[0.7,\"#b8e186\"],[0.8,\"#7fbc41\"],[0.9,\"#4d9221\"],[1,\"#276419\"]]},\"xaxis\":{\"gridcolor\":\"white\",\"linecolor\":\"white\",\"ticks\":\"\",\"title\":{\"standoff\":15},\"zerolinecolor\":\"white\",\"automargin\":true,\"zerolinewidth\":2},\"yaxis\":{\"gridcolor\":\"white\",\"linecolor\":\"white\",\"ticks\":\"\",\"title\":{\"standoff\":15},\"zerolinecolor\":\"white\",\"automargin\":true,\"zerolinewidth\":2},\"scene\":{\"xaxis\":{\"backgroundcolor\":\"#E5ECF6\",\"gridcolor\":\"white\",\"linecolor\":\"white\",\"showbackground\":true,\"ticks\":\"\",\"zerolinecolor\":\"white\",\"gridwidth\":2},\"yaxis\":{\"backgroundcolor\":\"#E5ECF6\",\"gridcolor\":\"white\",\"linecolor\":\"white\",\"showbackground\":true,\"ticks\":\"\",\"zerolinecolor\":\"white\",\"gridwidth\":2},\"zaxis\":{\"backgroundcolor\":\"#E5ECF6\",\"gridcolor\":\"white\",\"linecolor\":\"white\",\"showbackground\":true,\"ticks\":\"\",\"zerolinecolor\":\"white\",\"gridwidth\":2}},\"shapedefaults\":{\"line\":{\"color\":\"#2a3f5f\"}},\"annotationdefaults\":{\"arrowcolor\":\"#2a3f5f\",\"arrowhead\":0,\"arrowwidth\":1},\"geo\":{\"bgcolor\":\"white\",\"landcolor\":\"#E5ECF6\",\"subunitcolor\":\"white\",\"showland\":true,\"showlakes\":true,\"lakecolor\":\"white\"},\"title\":{\"x\":0.05},\"mapbox\":{\"style\":\"light\"}}},\"xaxis\":{\"anchor\":\"y\",\"domain\":[0.0,1.0],\"title\":{\"text\":\"Rating\"}},\"yaxis\":{\"anchor\":\"x\",\"domain\":[0.0,1.0],\"title\":{\"text\":\"Restaurant Name\"}},\"legend\":{\"title\":{\"text\":\"City\"},\"tracegroupgap\":0},\"title\":{\"text\":\"Top Recommended Restaurants with Ratings and Cuisines\",\"font\":{\"size\":18}},\"barmode\":\"relative\",\"width\":900,\"height\":500},                        {\"responsive\": true}                    ).then(function(){\n",
       "                            \n",
       "var gd = document.getElementById('38b7c0c5-d7d1-4688-a54d-a2bd225cf396');\n",
       "var x = new MutationObserver(function (mutations, observer) {{\n",
       "        var display = window.getComputedStyle(gd).display;\n",
       "        if (!display || display === 'none') {{\n",
       "            console.log([gd, 'removed!']);\n",
       "            Plotly.purge(gd);\n",
       "            observer.disconnect();\n",
       "        }}\n",
       "}});\n",
       "\n",
       "// Listen for the removal of the full notebook cells\n",
       "var notebookContainer = gd.closest('#notebook-container');\n",
       "if (notebookContainer) {{\n",
       "    x.observe(notebookContainer, {childList: true});\n",
       "}}\n",
       "\n",
       "// Listen for the clearing of the current output cell\n",
       "var outputEl = gd.closest('.output');\n",
       "if (outputEl) {{\n",
       "    x.observe(outputEl, {childList: true});\n",
       "}}\n",
       "\n",
       "                        })                };                });            </script>        </div>"
      ]
     },
     "metadata": {},
     "output_type": "display_data"
    }
   ],
   "source": [
    "import plotly.express as px\n",
    "\n",
    "# Sort for better visuals\n",
    "recommended_df = recommended_df.sort_values(by='Aggregate rating', ascending=True)\n",
    "\n",
    "# Create interactive bar chart\n",
    "fig = px.bar(\n",
    "    recommended_df,\n",
    "    x='Aggregate rating',\n",
    "    y='Restaurant Name',\n",
    "    color='City', \n",
    "    orientation='h',\n",
    "    text='Cuisines',\n",
    "    title='Top Recommended Restaurants with Ratings and Cuisines'\n",
    ")\n",
    "\n",
    "# Customize layout\n",
    "fig.update_layout(\n",
    "    xaxis_title='Rating',\n",
    "    yaxis_title='Restaurant Name',\n",
    "    title_font_size=18,\n",
    "    width=900,\n",
    "    height=500\n",
    ")\n",
    "\n",
    "fig.show()\n"
   ]
  },
  {
   "cell_type": "markdown",
   "id": "d866bcc7-5d62-4ac3-a10c-82327ceb2aea",
   "metadata": {},
   "source": [
    "## Output – **Restaurant Recommendation Chart**\n",
    "The bar chart above visualizes the top recommended restaurants based on user preferences and content-based filtering.\n",
    "Each bar represents:\n",
    "\n",
    "1 . The restaurant’s name\n",
    "2 .Its aggregate rating\n",
    "3 .The cuisines it serves\n",
    "4 .The city, shown through color codes"
   ]
  },
  {
   "cell_type": "markdown",
   "id": "211899c4-1626-4576-be29-3c49d14cca95",
   "metadata": {},
   "source": [
    "## Conclusion\n",
    "\n",
    "In this task, I successfully built a **content-based restaurant recommendation system** using user preferences such as cuisine type and price range. The model leverages **TF-IDF vectorization** and **cosine similarity** to recommend restaurants similar in nature, without needing prior user interaction history.\n",
    "\n",
    "### Key Achievements:\n",
    "- Preprocessed the dataset by handling missing values and cleaning relevant columns\n",
    "- Created a new 'Tags' feature combining cuisine and city for meaningful comparison\n",
    "- Used **TF-IDF** to convert text into numerical vectors\n",
    "- Calculated **cosine similarity** to find and rank similar restaurants\n",
    "- Developed a dynamic recommendation function to test different cuisine and price combinations\n",
    "- Visualized recommended results using **Seaborn bar plots**, showing real rating differences\n",
    "\n",
    "This task helped me better understand:\n",
    "- How **content-based filtering** works in recommendation systems\n",
    "- How to prepare and encode textual data for ML models\n",
    "- The importance of user-friendly outputs and visualization\n",
    "\n",
    "I'm excited to continue learning and apply these skills to more complex recommendation problems in future tasks!\n"
   ]
  },
  {
   "cell_type": "code",
   "execution_count": null,
   "id": "adadf043-a30c-472b-a921-ee04eb97e328",
   "metadata": {},
   "outputs": [],
   "source": []
  }
 ],
 "metadata": {
  "kernelspec": {
   "display_name": "Python 3 (ipykernel)",
   "language": "python",
   "name": "python3"
  },
  "language_info": {
   "codemirror_mode": {
    "name": "ipython",
    "version": 3
   },
   "file_extension": ".py",
   "mimetype": "text/x-python",
   "name": "python",
   "nbconvert_exporter": "python",
   "pygments_lexer": "ipython3",
   "version": "3.12.4"
  }
 },
 "nbformat": 4,
 "nbformat_minor": 5
}
